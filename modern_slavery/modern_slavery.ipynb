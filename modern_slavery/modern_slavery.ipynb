{
 "cells": [
  {
   "cell_type": "markdown",
   "metadata": {},
   "source": [
    "# Modern Slavery"
   ]
  },
  {
   "cell_type": "markdown",
   "metadata": {},
   "source": [
    "### I. Timeline of Slavery Ban\n",
    "\n",
    "The visualization below shows the timeline of ban for slavery in different major countries which imported a lot of slaves.\n",
    "\n",
    "![Timeline](ban_slavery_hist4.gif)"
   ]
  },
  {
   "cell_type": "markdown",
   "metadata": {},
   "source": [
    "### II. Declaration of Human Rights\n",
    "\n",
    "In December 10, 1948, The [Declaration of Human Rights](http://www.claiminghumanrights.org/udhr_article_4.html#at23) was proclaimed by the General Assembly of the United Nations. Article 4 of the said declaration stated the following:\n",
    "\n",
    "![No one shall be held in slavery or servitude; slavery and the slave trade shall be prohibited in all their forms.](article4.jpeg \"Article 4\")\n",
    "\n",
    "### III. The Painful Truth\n",
    "![Banned everywhere. Yet everywhere](is_everywhere.jpeg \"Article 4\")"
   ]
  },
  {
   "cell_type": "code",
   "execution_count": null,
   "metadata": {},
   "outputs": [],
   "source": []
  }
 ],
 "metadata": {
  "kernelspec": {
   "display_name": "Python 3",
   "language": "python",
   "name": "python3"
  },
  "language_info": {
   "codemirror_mode": {
    "name": "ipython",
    "version": 3
   },
   "file_extension": ".py",
   "mimetype": "text/x-python",
   "name": "python",
   "nbconvert_exporter": "python",
   "pygments_lexer": "ipython3",
   "version": "3.6.4"
  }
 },
 "nbformat": 4,
 "nbformat_minor": 2
}
