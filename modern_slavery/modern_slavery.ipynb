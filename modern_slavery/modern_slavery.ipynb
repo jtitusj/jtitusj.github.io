{
 "cells": [
  {
   "cell_type": "markdown",
   "metadata": {
    "slideshow": {
     "slide_type": "slide"
    }
   },
   "source": [
    "# Modern Slavery"
   ]
  },
  {
   "cell_type": "markdown",
   "metadata": {
    "slideshow": {
     "slide_type": "subslide"
    }
   },
   "source": [
    "### I. Timeline of Slavery Ban\n",
    "\n",
    "For centuries, slavery has been an integral part in different societies especially in countries that were to colonized different parts of the world. However, as time went on, societies realized the inhumanity of slavery. The visualization below shows the timeline of ban for slavery in different major countries which imported a lot of slaves.\n",
    "\n",
    "![Timeline](ban_slavery_hist4.gif)"
   ]
  },
  {
   "cell_type": "markdown",
   "metadata": {
    "slideshow": {
     "slide_type": "slide"
    }
   },
   "source": [
    "### II. Declaration of Human Rights\n",
    "\n",
    "In December 10, 1948, The [Declaration of Human Rights](http://www.claiminghumanrights.org/udhr_article_4.html#at23) was proclaimed by the General Assembly of the United Nations. Article 4 of the said declaration stated the following:\n",
    "\n",
    "![No one shall be held in slavery or servitude; slavery and the slave trade shall be prohibited in all their forms.](article4.jpeg \"Article 4\")\n",
    "\n",
    "### III. The Painful and Shameful Truth\n",
    "![Banned everywhere. Yet everywhere](is_everywhere.jpeg \"Article 4\")\n",
    "\n",
    "Since the Declaration of Human Rights was proclaimed, slavery has become illegal in almost every country in the planet. However, data shows that slavery still exists."
   ]
  },
  {
   "cell_type": "code",
   "execution_count": 18,
   "metadata": {
    "ExecuteTime": {
     "end_time": "2018-04-18T19:00:55.678182Z",
     "start_time": "2018-04-18T19:00:55.672110Z"
    },
    "hide_input": true,
    "scrolled": true,
    "slideshow": {
     "slide_type": "slide"
    }
   },
   "outputs": [
    {
     "data": {
      "text/html": [
       "<div class='tableauPlaceholder' id='viz1524076587011' style='position: relative'><noscript><a href='#'><img alt='Dashboard 1 '    src='https:&#47;&#47;public.tableau.com&#47;static&#47;images&#47;dv&#47;dvs_final_project_p1&#47;Dashboard1&#47;1_rss.png'    style='border: none' /></a></noscript><object class='tableauViz'      style='display:none;'><param name='host_url' value='https%3A%2F%2Fpublic.tableau.com%2F' /> <param name='embed_code_version' value='3' /> <param name='site_root' value='' /><param name='name' value='dvs_final_project_p1&#47;Dashboard1' /><param name='tabs' value='no' /><param name='toolbar' value='yes' /><param name='static_image' value='https:&#47;&#47;public.tableau.com&#47;static&#47;images&#47;dv&#47;dvs_final_project_p1&#47;Dashboard1&#47;1.png' /> <param name='animate_transition' value='yes' /><param name='display_static_image' value='yes' /><param name='display_spinner' value='yes' /><param name='display_overlay' value='yes' /><param name='display_count' value='yes' /><param name='filter' value='publish=yes' /></object></div>                <script type='text/javascript'>                        var divElement = document.getElementById('viz1524076587011');                       var vizElement = divElement.getElementsByTagName('object')[0];                        vizElement.style.width='1000px';    vizElement.style.height='827px';                        var scriptElement = document.createElement('script');                        scriptElement.src = 'https://public.tableau.com/javascripts/api/viz_v1.js';                        vizElement.parentNode.insertBefore(scriptElement, vizElement);                </script>"
      ],
      "text/plain": [
       "<IPython.core.display.HTML object>"
      ]
     },
     "metadata": {},
     "output_type": "display_data"
    }
   ],
   "source": [
    "%%HTML\n",
    "<div class='tableauPlaceholder' id='viz1524076587011' style='position: relative'>\n",
    "<noscript>\n",
    "<a href='#'>\n",
    "<img alt='Dashboard 1 '\n",
    "    src='https:&#47;&#47;public.tableau.com&#47;static&#47;images&#47;dv&#47;dvs_final_project_p1&#47;Dashboard1&#47;1_rss.png'\n",
    "    style='border: none' />\n",
    "</a>\n",
    "</noscript>\n",
    "<object class='tableauViz'  \n",
    "    style='display:none;'>\n",
    "<param name='host_url' value='https%3A%2F%2Fpublic.tableau.com%2F' /> \n",
    "<param name='embed_code_version' value='3' /> \n",
    "<param name='site_root' value='' />\n",
    "<param name='name' value='dvs_final_project_p1&#47;Dashboard1' />\n",
    "<param name='tabs' value='no' />\n",
    "<param name='toolbar' value='yes' />\n",
    "<param name='static_image' value='https:&#47;&#47;public.tableau.com&#47;static&#47;images&#47;dv&#47;dvs_final_project_p1&#47;Dashboard1&#47;1.png' /> \n",
    "<param name='animate_transition' value='yes' />\n",
    "<param name='display_static_image' value='yes' />\n",
    "<param name='display_spinner' value='yes' />\n",
    "<param name='display_overlay' value='yes' />\n",
    "<param name='display_count' value='yes' />\n",
    "<param name='filter' value='publish=yes' />\n",
    "</object>\n",
    "</div>                \n",
    "<script type='text/javascript'>                    \n",
    "    var divElement = document.getElementById('viz1524076587011');                    \n",
    "    var vizElement = divElement.getElementsByTagName('object')[0];                    \n",
    "    vizElement.style.width='1000px';\n",
    "    vizElement.style.height='827px';                    \n",
    "    var scriptElement = document.createElement('script');                    \n",
    "    scriptElement.src = 'https://public.tableau.com/javascripts/api/viz_v1.js';                    \n",
    "    vizElement.parentNode.insertBefore(scriptElement, vizElement);                \n",
    "</script>"
   ]
  },
  {
   "cell_type": "code",
   "execution_count": 15,
   "metadata": {
    "ExecuteTime": {
     "end_time": "2018-04-18T18:55:42.696157Z",
     "start_time": "2018-04-18T18:55:42.690496Z"
    },
    "hide_input": true,
    "scrolled": true,
    "slideshow": {
     "slide_type": "slide"
    }
   },
   "outputs": [
    {
     "data": {
      "text/html": [
       "<div class='tableauPlaceholder' id='viz1524077072040' style='position: relative'>\n",
       "<noscript>\n",
       "<a href='#'>\n",
       "<img alt='Dashboard 2 ' src='https:&#47;&#47;public.tableau.com&#47;static&#47;images&#47;dv&#47;dvs_final_project_3&#47;Dashboard2&#47;1_rss.png'\n",
       "    style='border: none' />\n",
       "</a>\n",
       "</noscript>\n",
       "<object class='tableauViz'  style='display:none;'>\n",
       "<param name='host_url' value='https%3A%2F%2Fpublic.tableau.com%2F' /> \n",
       "<param name='embed_code_version' value='3' /> \n",
       "<param name='site_root' value='' />\n",
       "<param name='name' value='dvs_final_project_3&#47;Dashboard2' />\n",
       "<param name='tabs' value='no' />\n",
       "<param name='toolbar' value='yes' />\n",
       "<param name='static_image'\n",
       "    value='https:&#47;&#47;public.tableau.com&#47;static&#47;images&#47;dv&#47;dvs_final_project_3&#47;Dashboard2&#47;1.png' /> \n",
       "<param name='animate_transition' value='yes' />\n",
       "<param name='display_static_image' value='yes' />\n",
       "<param name='display_spinner' value='yes' />\n",
       "<param name='display_overlay' value='yes' />\n",
       "<param name='display_count' value='yes' />\n",
       "<param name='filter' value='publish=yes' />\n",
       "</object>\n",
       "</div>                \n",
       "<script type='text/javascript'>                    \n",
       "    var divElement = document.getElementById('viz1524077072040');                    \n",
       "    var vizElement = divElement.getElementsByTagName('object')[0];                    \n",
       "    vizElement.style.width='1000px';\n",
       "    vizElement.style.height='827px';                    \n",
       "    var scriptElement = document.createElement('script');                    \n",
       "    scriptElement.src = 'https://public.tableau.com/javascripts/api/viz_v1.js';                    \n",
       "    vizElement.parentNode.insertBefore(scriptElement, vizElement);                \n",
       "</script>"
      ],
      "text/plain": [
       "<IPython.core.display.HTML object>"
      ]
     },
     "metadata": {},
     "output_type": "display_data"
    }
   ],
   "source": [
    "%%HTML\n",
    "<div class='tableauPlaceholder' id='viz1524077072040' style='position: relative'>\n",
    "<noscript>\n",
    "<a href='#'>\n",
    "<img alt='Dashboard 2 ' src='https:&#47;&#47;public.tableau.com&#47;static&#47;images&#47;dv&#47;dvs_final_project_3&#47;Dashboard2&#47;1_rss.png'\n",
    "    style='border: none' />\n",
    "</a>\n",
    "</noscript>\n",
    "<object class='tableauViz'  style='display:none;'>\n",
    "<param name='host_url' value='https%3A%2F%2Fpublic.tableau.com%2F' /> \n",
    "<param name='embed_code_version' value='3' /> \n",
    "<param name='site_root' value='' />\n",
    "<param name='name' value='dvs_final_project_3&#47;Dashboard2' />\n",
    "<param name='tabs' value='no' />\n",
    "<param name='toolbar' value='yes' />\n",
    "<param name='static_image'\n",
    "    value='https:&#47;&#47;public.tableau.com&#47;static&#47;images&#47;dv&#47;dvs_final_project_3&#47;Dashboard2&#47;1.png' /> \n",
    "<param name='animate_transition' value='yes' />\n",
    "<param name='display_static_image' value='yes' />\n",
    "<param name='display_spinner' value='yes' />\n",
    "<param name='display_overlay' value='yes' />\n",
    "<param name='display_count' value='yes' />\n",
    "<param name='filter' value='publish=yes' />\n",
    "</object>\n",
    "</div>                \n",
    "<script type='text/javascript'>                    \n",
    "    var divElement = document.getElementById('viz1524077072040');                    \n",
    "    var vizElement = divElement.getElementsByTagName('object')[0];                    \n",
    "    vizElement.style.width='1000px';\n",
    "    vizElement.style.height='827px';                    \n",
    "    var scriptElement = document.createElement('script');                    \n",
    "    scriptElement.src = 'https://public.tableau.com/javascripts/api/viz_v1.js';                    \n",
    "    vizElement.parentNode.insertBefore(scriptElement, vizElement);                \n",
    "</script>"
   ]
  },
  {
   "cell_type": "code",
   "execution_count": 16,
   "metadata": {
    "ExecuteTime": {
     "end_time": "2018-04-18T18:56:14.633264Z",
     "start_time": "2018-04-18T18:56:14.627949Z"
    },
    "hide_input": true,
    "scrolled": false,
    "slideshow": {
     "slide_type": "slide"
    }
   },
   "outputs": [
    {
     "data": {
      "text/html": [
       "<div class='tableauPlaceholder' id='viz1524077464692' style='position: relative'><noscript><a href='#'><img alt='Story 1 ' src='https:&#47;&#47;public.tableau.com&#47;static&#47;images&#47;dv&#47;dvs_final_project_4&#47;Story1&#47;1_rss.png' style='border: none' /></a></noscript><object class='tableauViz'  style='display:none;'><param name='host_url' value='https%3A%2F%2Fpublic.tableau.com%2F' /> <param name='embed_code_version' value='3' /> <param name='site_root' value='' /><param name='name' value='dvs_final_project_4&#47;Story1' /><param name='tabs' value='no' /><param name='toolbar' value='yes' /><param name='static_image' value='https:&#47;&#47;public.tableau.com&#47;static&#47;images&#47;dv&#47;dvs_final_project_4&#47;Story1&#47;1.png' /> <param name='animate_transition' value='yes' /><param name='display_static_image' value='yes' /><param name='display_spinner' value='yes' /><param name='display_overlay' value='yes' /><param name='display_count' value='yes' /><param name='filter' value='publish=yes' /></object></div>                <script type='text/javascript'>                    var divElement = document.getElementById('viz1524077464692');                    var vizElement = divElement.getElementsByTagName('object')[0];                    vizElement.style.width='1016px';vizElement.style.height='991px';                    var scriptElement = document.createElement('script');                    scriptElement.src = 'https://public.tableau.com/javascripts/api/viz_v1.js';                    vizElement.parentNode.insertBefore(scriptElement, vizElement);                </script>"
      ],
      "text/plain": [
       "<IPython.core.display.HTML object>"
      ]
     },
     "metadata": {},
     "output_type": "display_data"
    }
   ],
   "source": [
    "%%HTML\n",
    "<div class='tableauPlaceholder' id='viz1524077464692' style='position: relative'><noscript><a href='#'><img alt='Story 1 ' src='https:&#47;&#47;public.tableau.com&#47;static&#47;images&#47;dv&#47;dvs_final_project_4&#47;Story1&#47;1_rss.png' style='border: none' /></a></noscript><object class='tableauViz'  style='display:none;'><param name='host_url' value='https%3A%2F%2Fpublic.tableau.com%2F' /> <param name='embed_code_version' value='3' /> <param name='site_root' value='' /><param name='name' value='dvs_final_project_4&#47;Story1' /><param name='tabs' value='no' /><param name='toolbar' value='yes' /><param name='static_image' value='https:&#47;&#47;public.tableau.com&#47;static&#47;images&#47;dv&#47;dvs_final_project_4&#47;Story1&#47;1.png' /> <param name='animate_transition' value='yes' /><param name='display_static_image' value='yes' /><param name='display_spinner' value='yes' /><param name='display_overlay' value='yes' /><param name='display_count' value='yes' /><param name='filter' value='publish=yes' /></object></div>                <script type='text/javascript'>                    var divElement = document.getElementById('viz1524077464692');                    var vizElement = divElement.getElementsByTagName('object')[0];                    vizElement.style.width='1016px';vizElement.style.height='991px';                    var scriptElement = document.createElement('script');                    scriptElement.src = 'https://public.tableau.com/javascripts/api/viz_v1.js';                    vizElement.parentNode.insertBefore(scriptElement, vizElement);                </script>"
   ]
  },
  {
   "cell_type": "markdown",
   "metadata": {},
   "source": [
    "![Types](types.png \"Types\")"
   ]
  },
  {
   "cell_type": "code",
   "execution_count": 25,
   "metadata": {
    "ExecuteTime": {
     "end_time": "2018-04-19T06:26:58.254813Z",
     "start_time": "2018-04-19T06:26:58.243986Z"
    },
    "hide_input": true,
    "scrolled": true
   },
   "outputs": [
    {
     "data": {
      "text/html": [
       "<div class='tableauPlaceholder' id='viz1524119133303' style='position: relative'><noscript><a href='#'><img alt='Dashboard 1 ' src='https:&#47;&#47;public.tableau.com&#47;static&#47;images&#47;ge&#47;gender_39&#47;Dashboard1&#47;1_rss.png' style='border: none' /></a></noscript><object class='tableauViz'  style='display:none;'><param name='host_url' value='https%3A%2F%2Fpublic.tableau.com%2F' /> <param name='embed_code_version' value='3' /> <param name='site_root' value='' /><param name='name' value='gender_39&#47;Dashboard1' /><param name='tabs' value='no' /><param name='toolbar' value='yes' /><param name='static_image' value='https:&#47;&#47;public.tableau.com&#47;static&#47;images&#47;ge&#47;gender_39&#47;Dashboard1&#47;1.png' /> <param name='animate_transition' value='yes' /><param name='display_static_image' value='yes' /><param name='display_spinner' value='yes' /><param name='display_overlay' value='yes' /><param name='display_count' value='yes' /></object></div>                <script type='text/javascript'>                    var divElement = document.getElementById('viz1524119133303');                    var vizElement = divElement.getElementsByTagName('object')[0];                    vizElement.style.width='1000px';vizElement.style.height='927px';                    var scriptElement = document.createElement('script');                    scriptElement.src = 'https://public.tableau.com/javascripts/api/viz_v1.js';                    vizElement.parentNode.insertBefore(scriptElement, vizElement);                </script>"
      ],
      "text/plain": [
       "<IPython.core.display.HTML object>"
      ]
     },
     "metadata": {},
     "output_type": "display_data"
    }
   ],
   "source": [
    "%%HTML\n",
    "<div class='tableauPlaceholder' id='viz1524119133303' style='position: relative'><noscript><a href='#'><img alt='Dashboard 1 ' src='https:&#47;&#47;public.tableau.com&#47;static&#47;images&#47;ge&#47;gender_39&#47;Dashboard1&#47;1_rss.png' style='border: none' /></a></noscript><object class='tableauViz'  style='display:none;'><param name='host_url' value='https%3A%2F%2Fpublic.tableau.com%2F' /> <param name='embed_code_version' value='3' /> <param name='site_root' value='' /><param name='name' value='gender_39&#47;Dashboard1' /><param name='tabs' value='no' /><param name='toolbar' value='yes' /><param name='static_image' value='https:&#47;&#47;public.tableau.com&#47;static&#47;images&#47;ge&#47;gender_39&#47;Dashboard1&#47;1.png' /> <param name='animate_transition' value='yes' /><param name='display_static_image' value='yes' /><param name='display_spinner' value='yes' /><param name='display_overlay' value='yes' /><param name='display_count' value='yes' /></object></div>                <script type='text/javascript'>                    var divElement = document.getElementById('viz1524119133303');                    var vizElement = divElement.getElementsByTagName('object')[0];                    vizElement.style.width='1000px';vizElement.style.height='927px';                    var scriptElement = document.createElement('script');                    scriptElement.src = 'https://public.tableau.com/javascripts/api/viz_v1.js';                    vizElement.parentNode.insertBefore(scriptElement, vizElement);                </script>"
   ]
  },
  {
   "cell_type": "code",
   "execution_count": 26,
   "metadata": {
    "ExecuteTime": {
     "end_time": "2018-04-19T06:27:20.937801Z",
     "start_time": "2018-04-19T06:27:20.931662Z"
    },
    "hide_input": true,
    "scrolled": false
   },
   "outputs": [
    {
     "data": {
      "text/html": [
       "<div class='tableauPlaceholder' id='viz1524119236520' style='position: relative'><noscript><a href='#'><img alt='Dashboard 1 ' src='https:&#47;&#47;public.tableau.com&#47;static&#47;images&#47;ag&#47;age_ms&#47;Dashboard1&#47;1_rss.png' style='border: none' /></a></noscript><object class='tableauViz'  style='display:none;'><param name='host_url' value='https%3A%2F%2Fpublic.tableau.com%2F' /> <param name='embed_code_version' value='3' /> <param name='site_root' value='' /><param name='name' value='age_ms&#47;Dashboard1' /><param name='tabs' value='no' /><param name='toolbar' value='yes' /><param name='static_image' value='https:&#47;&#47;public.tableau.com&#47;static&#47;images&#47;ag&#47;age_ms&#47;Dashboard1&#47;1.png' /> <param name='animate_transition' value='yes' /><param name='display_static_image' value='yes' /><param name='display_spinner' value='yes' /><param name='display_overlay' value='yes' /><param name='display_count' value='yes' /></object></div>                <script type='text/javascript'>                    var divElement = document.getElementById('viz1524119236520');                    var vizElement = divElement.getElementsByTagName('object')[0];                    vizElement.style.width='1000px';vizElement.style.height='827px';                    var scriptElement = document.createElement('script');                    scriptElement.src = 'https://public.tableau.com/javascripts/api/viz_v1.js';                    vizElement.parentNode.insertBefore(scriptElement, vizElement);                </script>"
      ],
      "text/plain": [
       "<IPython.core.display.HTML object>"
      ]
     },
     "metadata": {},
     "output_type": "display_data"
    }
   ],
   "source": [
    "%%HTML\n",
    "<div class='tableauPlaceholder' id='viz1524119236520' style='position: relative'><noscript><a href='#'><img alt='Dashboard 1 ' src='https:&#47;&#47;public.tableau.com&#47;static&#47;images&#47;ag&#47;age_ms&#47;Dashboard1&#47;1_rss.png' style='border: none' /></a></noscript><object class='tableauViz'  style='display:none;'><param name='host_url' value='https%3A%2F%2Fpublic.tableau.com%2F' /> <param name='embed_code_version' value='3' /> <param name='site_root' value='' /><param name='name' value='age_ms&#47;Dashboard1' /><param name='tabs' value='no' /><param name='toolbar' value='yes' /><param name='static_image' value='https:&#47;&#47;public.tableau.com&#47;static&#47;images&#47;ag&#47;age_ms&#47;Dashboard1&#47;1.png' /> <param name='animate_transition' value='yes' /><param name='display_static_image' value='yes' /><param name='display_spinner' value='yes' /><param name='display_overlay' value='yes' /><param name='display_count' value='yes' /></object></div>                <script type='text/javascript'>                    var divElement = document.getElementById('viz1524119236520');                    var vizElement = divElement.getElementsByTagName('object')[0];                    vizElement.style.width='1000px';vizElement.style.height='827px';                    var scriptElement = document.createElement('script');                    scriptElement.src = 'https://public.tableau.com/javascripts/api/viz_v1.js';                    vizElement.parentNode.insertBefore(scriptElement, vizElement);                </script>"
   ]
  },
  {
   "cell_type": "markdown",
   "metadata": {},
   "source": [
    "# Summary\n",
    "\n",
    "In this notebook, we discussed several key issues related to modern slavery.\n",
    "\n",
    "1. Slavery still exists and at a massive scale.\n",
    "2. In some countries, the number of victims of modern slavery goes by the millions.\n",
    "3. Modern slavery exists in several grave forms and involves men, women, and children.\n",
    "\n",
    "While we would like to think of slavery as a stupid mistake that we did in the past, and something that we will only read in history books, in reality, slavery remains a big issue and the sad truth is, we haven't solved it yet. If we want to end slavery sooner, we must act faster. We would like to leave this question to our reader? How can you help in the war to end slavery?\n",
    "\n",
    "# Call to Action\n",
    "1. Report potential victims of modern slavery to the right authority.\n",
    "2. Don't participate in modern slavery.\n",
    "       Pay your employees well.\n",
    "       Pay your yayas enough and let them go home to spend time with their family.\n",
    "       Don't force your daughters to marry someone they don't like.\n",
    "\n",
    "### TO DO\n",
    "1. Add Number of appropriate agencies\n",
    "2. Culture can be a hindrance and so, countries should be educated in order for them to adapt these changes.\n",
    "\n",
    "At the end of the day, they are humans too and they have the same rights as you!"
   ]
  },
  {
   "cell_type": "markdown",
   "metadata": {},
   "source": [
    "# References\n",
    "\n",
    "Global Estimates of Modern Slavery. (n.d.). Retrieved April 18, 2018, from http://www.ilo.org/wcmsp5/groups/public/@dgreports/@dcomm/documents/publication/wcms_575479.pdf\n",
    "\n",
    "CHRONOLOGY-Who banned slavery when?. (March 22, 2007). Retrieved April 18, 2018, from\n",
    "https://www.reuters.com/article/uk-slavery/chronology-who-banned-slavery-when-idUSL1561464920070322"
   ]
  }
 ],
 "metadata": {
  "kernelspec": {
   "display_name": "Python 3",
   "language": "python",
   "name": "python3"
  },
  "language_info": {
   "codemirror_mode": {
    "name": "ipython",
    "version": 3
   },
   "file_extension": ".py",
   "mimetype": "text/x-python",
   "name": "python",
   "nbconvert_exporter": "python",
   "pygments_lexer": "ipython3",
   "version": "3.6.4"
  }
 },
 "nbformat": 4,
 "nbformat_minor": 2
}
